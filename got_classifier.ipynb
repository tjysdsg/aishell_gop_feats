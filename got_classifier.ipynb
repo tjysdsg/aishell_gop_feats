{
 "cells": [
  {
   "cell_type": "code",
   "execution_count": 1,
   "metadata": {},
   "outputs": [],
   "source": [
    "import os\n",
    "import numpy as np\n",
    "from common import *\n",
    "from phone_feats import get_phone_feats"
   ]
  },
  {
   "cell_type": "code",
   "execution_count": 2,
   "metadata": {},
   "outputs": [],
   "source": [
    "data = {i: [] for i in range(201 + 1)}\n",
    "with os.scandir('feats') as it:\n",
    "        for entry in it:\n",
    "            if entry.is_file():\n",
    "                filename = entry.name\n",
    "                pid = int(filename.split('.')[0])\n",
    "                data[pid] = np.loadtxt(os.path.join('feats', filename))\n",
    "\n",
    "initials_pid = [phone2id[i] for i in INITIALS]\n",
    "utt2trans = get_utt2trans()\n",
    "phone_feats = get_phone_feats()"
   ]
  },
  {
   "cell_type": "code",
   "execution_count": null,
   "metadata": {},
   "outputs": [],
   "source": []
  }
 ],
 "metadata": {
  "kernelspec": {
   "display_name": "Python 3",
   "language": "python",
   "name": "python3"
  },
  "language_info": {
   "codemirror_mode": {
    "name": "ipython",
    "version": 3
   },
   "file_extension": ".py",
   "mimetype": "text/x-python",
   "name": "python",
   "nbconvert_exporter": "python",
   "pygments_lexer": "ipython3",
   "version": "3.7.4"
  }
 },
 "nbformat": 4,
 "nbformat_minor": 4
}
